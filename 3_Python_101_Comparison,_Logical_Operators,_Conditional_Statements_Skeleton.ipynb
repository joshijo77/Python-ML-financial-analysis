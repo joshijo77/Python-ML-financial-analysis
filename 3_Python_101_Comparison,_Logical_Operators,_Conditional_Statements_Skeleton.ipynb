{
  "nbformat": 4,
  "nbformat_minor": 0,
  "metadata": {
    "colab": {
      "name": "3. Python 101 - Comparison, Logical Operators, Conditional Statements - Skeleton.ipynb",
      "provenance": [],
      "collapsed_sections": [],
      "include_colab_link": true
    },
    "kernelspec": {
      "name": "python3",
      "display_name": "Python 3"
    }
  },
  "cells": [
    {
      "cell_type": "markdown",
      "metadata": {
        "id": "view-in-github",
        "colab_type": "text"
      },
      "source": [
        "<a href=\"https://colab.research.google.com/github/joshijo77/Python-ML-financial-analysis/blob/main/3_Python_101_Comparison%2C_Logical_Operators%2C_Conditional_Statements_Skeleton.ipynb\" target=\"_parent\"><img src=\"https://colab.research.google.com/assets/colab-badge.svg\" alt=\"Open In Colab\"/></a>"
      ]
    },
    {
      "cell_type": "markdown",
      "metadata": {
        "id": "CV9YCHsGtAP5"
      },
      "source": [
        "# 1. COMPARISON OPERATORS\n"
      ]
    },
    {
      "cell_type": "code",
      "metadata": {
        "id": "o9VtOcrKtCc1",
        "colab": {
          "base_uri": "https://localhost:8080/",
          "height": 34
        },
        "outputId": "762a7d13-fe03-4ec4-a3d8-972e74778aa0"
      },
      "source": [
        "# Comparison Operator output could be \"True\" or \"False\"\n",
        "# Let's cover equal '==' comparison operator first\n",
        "# It's simply a question: \"Is stock_1_price equals stock_2_price or not?\"\n",
        "# \"True\" output means condition is satisfied \n",
        "# \"False\" output means Condition is not satisfied (condition is not true) \n",
        "\n"
      ],
      "execution_count": null,
      "outputs": [
        {
          "output_type": "execute_result",
          "data": {
            "text/plain": [
              "True"
            ]
          },
          "metadata": {
            "tags": []
          },
          "execution_count": 6
        }
      ]
    },
    {
      "cell_type": "code",
      "metadata": {
        "id": "l48NWuCztX5G",
        "colab": {
          "base_uri": "https://localhost:8080/",
          "height": 34
        },
        "outputId": "df27fd21-2378-439e-9744-ce8a2b37559d"
      },
      "source": [
        "# Greater than or equal operator '>='\n"
      ],
      "execution_count": null,
      "outputs": [
        {
          "output_type": "execute_result",
          "data": {
            "text/plain": [
              "True"
            ]
          },
          "metadata": {
            "tags": []
          },
          "execution_count": 7
        }
      ]
    },
    {
      "cell_type": "code",
      "metadata": {
        "id": "RmUrcn31tY0_"
      },
      "source": [
        "# Note that '==' is a comparison operator \n",
        "# Note that '=' is used for variable assignment (put 10 in stock_1_price)\n"
      ],
      "execution_count": null,
      "outputs": []
    },
    {
      "cell_type": "code",
      "metadata": {
        "id": "TttdgxEPtY3z",
        "colab": {
          "base_uri": "https://localhost:8080/",
          "height": 34
        },
        "outputId": "8984162f-4bd4-4fab-a257-7ea05148b01c"
      },
      "source": [
        ""
      ],
      "execution_count": null,
      "outputs": [
        {
          "output_type": "execute_result",
          "data": {
            "text/plain": [
              "10"
            ]
          },
          "metadata": {
            "tags": []
          },
          "execution_count": 9
        }
      ]
    },
    {
      "cell_type": "code",
      "metadata": {
        "id": "9fvPnQePtY9K",
        "colab": {
          "base_uri": "https://localhost:8080/",
          "height": 34
        },
        "outputId": "0f73f323-c39b-4a31-d5ad-609713a204fa"
      },
      "source": [
        "# Comparison operators work with strings as well\n"
      ],
      "execution_count": null,
      "outputs": [
        {
          "output_type": "execute_result",
          "data": {
            "text/plain": [
              "True"
            ]
          },
          "metadata": {
            "tags": []
          },
          "execution_count": 10
        }
      ]
    },
    {
      "cell_type": "code",
      "metadata": {
        "id": "krIE9oTdtj-Q",
        "colab": {
          "base_uri": "https://localhost:8080/",
          "height": 34
        },
        "outputId": "c9db9e4b-902f-45d4-a8c9-e0d05c2e8bcb"
      },
      "source": [
        "# Both strings have to exactly match (lower case vs. upper case)\n"
      ],
      "execution_count": null,
      "outputs": [
        {
          "output_type": "execute_result",
          "data": {
            "text/plain": [
              "False"
            ]
          },
          "metadata": {
            "tags": []
          },
          "execution_count": 11
        }
      ]
    },
    {
      "cell_type": "code",
      "metadata": {
        "id": "WI6k596Xtlcc",
        "colab": {
          "base_uri": "https://localhost:8080/",
          "height": 34
        },
        "outputId": "2e245dc3-37ee-45b9-8686-f589324834f6"
      },
      "source": [
        "# Not equal comparison operator '!='\n",
        "\n"
      ],
      "execution_count": null,
      "outputs": [
        {
          "output_type": "execute_result",
          "data": {
            "text/plain": [
              "False"
            ]
          },
          "metadata": {
            "tags": []
          },
          "execution_count": 13
        }
      ]
    },
    {
      "cell_type": "markdown",
      "metadata": {
        "id": "eNyKRJob4Xlo"
      },
      "source": [
        "**MINI CHALLENGE #1:**\n",
        "- **Without executing the code cell, What will this code generate?**\n",
        "\n",
        "```\n",
        "stock_1_price = 15\n",
        "stock_2_price = 10\n",
        "\n",
        "print(stock_1_price == stock_2_price) \n",
        "print(stock_1_price != stock_2_price) \n",
        "print(stock_1_price > stock_2_price)\n",
        "print(stock_1_price < stock_2_price) \n",
        "```\n"
      ]
    },
    {
      "cell_type": "code",
      "metadata": {
        "id": "-vRyMcIhlVPg",
        "colab": {
          "base_uri": "https://localhost:8080/"
        },
        "outputId": "8c0cf4d0-d29c-4544-f87f-c243f3f8de17"
      },
      "source": [
        "stock_1_price = 15\n",
        "stock_2_price = 10\n",
        " \n",
        "print(stock_1_price == stock_2_price) \n",
        "print(stock_1_price != stock_2_price) \n",
        "print(stock_1_price > stock_2_price)\n",
        "print(stock_1_price < stock_2_price) "
      ],
      "execution_count": null,
      "outputs": [
        {
          "output_type": "stream",
          "text": [
            "False\n",
            "True\n",
            "True\n",
            "False\n"
          ],
          "name": "stdout"
        }
      ]
    },
    {
      "cell_type": "markdown",
      "metadata": {
        "id": "4ElLliXmvffI"
      },
      "source": [
        "# 2. LOGICAL OPERATORS"
      ]
    },
    {
      "cell_type": "code",
      "metadata": {
        "id": "DZ4lIrr9viXb",
        "colab": {
          "base_uri": "https://localhost:8080/"
        },
        "outputId": "72e76a9d-9831-4f8e-e601-24efbaaa7d14"
      },
      "source": [
        "# For \"and\" logical operators, both arguments must be \"True\" in order for the output to be \"True\" \n",
        "# (Note that this is the only case in which the 'and' logical operator generates a True output)\n",
        "# 1 and 1 = 1\n",
        "True and True"
      ],
      "execution_count": 4,
      "outputs": [
        {
          "output_type": "execute_result",
          "data": {
            "text/plain": [
              "True"
            ]
          },
          "metadata": {
            "tags": []
          },
          "execution_count": 4
        }
      ]
    },
    {
      "cell_type": "code",
      "metadata": {
        "id": "tBllQqO2vxPe",
        "colab": {
          "base_uri": "https://localhost:8080/"
        },
        "outputId": "9d7535c7-5632-40c9-a51d-237100eb538c"
      },
      "source": [
        "# 0 and 1 = 0\n",
        "False and True"
      ],
      "execution_count": 5,
      "outputs": [
        {
          "output_type": "execute_result",
          "data": {
            "text/plain": [
              "False"
            ]
          },
          "metadata": {
            "tags": []
          },
          "execution_count": 5
        }
      ]
    },
    {
      "cell_type": "code",
      "metadata": {
        "id": "ebgLEPrQvy1h",
        "colab": {
          "base_uri": "https://localhost:8080/"
        },
        "outputId": "63f257f7-412b-4ee5-ed7b-f522edf0ccd6"
      },
      "source": [
        "# 0 and 0 = 0\n",
        "False and False"
      ],
      "execution_count": 6,
      "outputs": [
        {
          "output_type": "execute_result",
          "data": {
            "text/plain": [
              "False"
            ]
          },
          "metadata": {
            "tags": []
          },
          "execution_count": 6
        }
      ]
    },
    {
      "cell_type": "code",
      "metadata": {
        "id": "Y_FB6C6yvzqb",
        "colab": {
          "base_uri": "https://localhost:8080/"
        },
        "outputId": "2884693f-08c6-44ea-ba48-842ea14bd752"
      },
      "source": [
        "# For \"or\" logical operators, if any one of the arguments is \"True\", the output will be \"True\" \n",
        "# 1 or 1 = 1\n",
        "True or True"
      ],
      "execution_count": 7,
      "outputs": [
        {
          "output_type": "execute_result",
          "data": {
            "text/plain": [
              "True"
            ]
          },
          "metadata": {
            "tags": []
          },
          "execution_count": 7
        }
      ]
    },
    {
      "cell_type": "code",
      "metadata": {
        "id": "kiy1MhGrvzu9",
        "colab": {
          "base_uri": "https://localhost:8080/"
        },
        "outputId": "c2e13e53-00ae-44f0-98ba-3549ea437008"
      },
      "source": [
        "# 1 or 0 = 1\n",
        "True or False"
      ],
      "execution_count": 8,
      "outputs": [
        {
          "output_type": "execute_result",
          "data": {
            "text/plain": [
              "True"
            ]
          },
          "metadata": {
            "tags": []
          },
          "execution_count": 8
        }
      ]
    },
    {
      "cell_type": "code",
      "metadata": {
        "id": "S9Zo0wWovz2j",
        "colab": {
          "base_uri": "https://localhost:8080/"
        },
        "outputId": "567320fc-84c3-474c-e216-b34af77c3931"
      },
      "source": [
        "# 0 or 1 = 1\n",
        "False or True"
      ],
      "execution_count": 9,
      "outputs": [
        {
          "output_type": "execute_result",
          "data": {
            "text/plain": [
              "True"
            ]
          },
          "metadata": {
            "tags": []
          },
          "execution_count": 9
        }
      ]
    },
    {
      "cell_type": "code",
      "metadata": {
        "id": "Tu1BB3FAvz8-",
        "colab": {
          "base_uri": "https://localhost:8080/"
        },
        "outputId": "dbfdb8e5-6867-4c2c-bf1f-4e07b14bdd65"
      },
      "source": [
        "# 0 or 0 = 0 (Note that this is the only case in which the 'or' logical operator generates a False output)\n",
        "False or False"
      ],
      "execution_count": 10,
      "outputs": [
        {
          "output_type": "execute_result",
          "data": {
            "text/plain": [
              "False"
            ]
          },
          "metadata": {
            "tags": []
          },
          "execution_count": 10
        }
      ]
    },
    {
      "cell_type": "code",
      "metadata": {
        "id": "KC9ArCvsvz7J",
        "colab": {
          "base_uri": "https://localhost:8080/"
        },
        "outputId": "ce86664a-b52c-49a8-e313-fad9f04028ba"
      },
      "source": [
        " # True and False = False \n",
        "(10>3) and (9==3)"
      ],
      "execution_count": 12,
      "outputs": [
        {
          "output_type": "execute_result",
          "data": {
            "text/plain": [
              "False"
            ]
          },
          "metadata": {
            "tags": []
          },
          "execution_count": 12
        }
      ]
    },
    {
      "cell_type": "code",
      "metadata": {
        "id": "1kVyRF3Avz5V",
        "colab": {
          "base_uri": "https://localhost:8080/"
        },
        "outputId": "960aeaf7-8089-4c40-cd40-8d8e17964b64"
      },
      "source": [
        "# True or False = True\n",
        "(10>3) or (9==3)"
      ],
      "execution_count": 14,
      "outputs": [
        {
          "output_type": "execute_result",
          "data": {
            "text/plain": [
              "True"
            ]
          },
          "metadata": {
            "tags": []
          },
          "execution_count": 14
        }
      ]
    },
    {
      "cell_type": "markdown",
      "metadata": {
        "id": "vjvXsd7ezN4y"
      },
      "source": [
        "**MINI CHALLENGE #2:**\n",
        "- **Without executing the code cell, What will these two lines of code generate?**\n",
        "\n",
        "```\n",
        "print('FINANCE'!='FINANCE' and (10 > 3) and (20 == 20)) \n",
        "```\n",
        "\n",
        "```\n",
        "print('Finance'!='FINANCE' or (16 > 20) or (25 == 25)) \n",
        "```\n"
      ]
    },
    {
      "cell_type": "code",
      "metadata": {
        "id": "4u7cWLq15VZt",
        "colab": {
          "base_uri": "https://localhost:8080/"
        },
        "outputId": "34bd90a7-f5b9-46da-a7cc-0842158d053e"
      },
      "source": [
        "print('FINANCE'!='FINANCE' and (10 > 3) and (20 == 20)) \n",
        "print('Finance'!='FINANCE' or (16 > 20) or (25 == 25)) "
      ],
      "execution_count": 16,
      "outputs": [
        {
          "output_type": "stream",
          "text": [
            "False\n",
            "True\n"
          ],
          "name": "stdout"
        }
      ]
    },
    {
      "cell_type": "markdown",
      "metadata": {
        "id": "GVMXs0iZ0xJp"
      },
      "source": [
        "**MINI CHALLENGE #3:**\n",
        "- **Without executing the code cell, What will these two lines of code generate?**\n",
        "\n",
        "```\n",
        "a = 5\n",
        "b = 3.5\n",
        "\n",
        "print(a == b or a != b) \n",
        "print(a == b and a != b) \n",
        "```\n",
        "\n"
      ]
    },
    {
      "cell_type": "code",
      "metadata": {
        "id": "xA9pXas-5WJB",
        "colab": {
          "base_uri": "https://localhost:8080/"
        },
        "outputId": "346f3cf2-ac67-484d-e0b6-b68b9f059a32"
      },
      "source": [
        "a = 5\n",
        "b = 3.5\n",
        "\n",
        "print(a == b or a != b) \n",
        "print(a == b and a != b) \n"
      ],
      "execution_count": 17,
      "outputs": [
        {
          "output_type": "stream",
          "text": [
            "True\n",
            "False\n"
          ],
          "name": "stdout"
        }
      ]
    },
    {
      "cell_type": "markdown",
      "metadata": {
        "id": "STR2UADaxtHC"
      },
      "source": [
        "# 3. CONDITIONAL STATEMENTS"
      ]
    },
    {
      "cell_type": "markdown",
      "metadata": {
        "id": "owrJExRxX--G"
      },
      "source": [
        "- A simple if-else statement is written in Python as follows:\n",
        "\n",
        "```\n",
        "if condition:\n",
        "  statement #1\n",
        "else:\n",
        "  statement #2\n",
        "```\n",
        "\n",
        "- If the condition is true, execute the first indented statement\n",
        "- if the condition is not true, then execute the else indented statements. \n",
        "- Note that Python uses indentation (whitespace) to indicate code sections and scope."
      ]
    },
    {
      "cell_type": "code",
      "metadata": {
        "id": "9iiHeyl_xvte",
        "colab": {
          "base_uri": "https://localhost:8080/"
        },
        "outputId": "ca664edf-f442-47ae-9e7b-7367d665c407"
      },
      "source": [
        "if 10>9:\n",
        "  print('If condition is True')\n",
        "else:\n",
        "  print('If condition is False')"
      ],
      "execution_count": 18,
      "outputs": [
        {
          "output_type": "stream",
          "text": [
            "If condition is True\n"
          ],
          "name": "stdout"
        }
      ]
    },
    {
      "cell_type": "code",
      "metadata": {
        "id": "M05mmLIWxzCP",
        "colab": {
          "base_uri": "https://localhost:8080/"
        },
        "outputId": "44eb85d3-32a5-4f54-df41-dfae2b90f8a9"
      },
      "source": [
        "if 5==10:\n",
        "  print('If condition is True')\n",
        "else:\n",
        "  print('If condition is False')"
      ],
      "execution_count": 19,
      "outputs": [
        {
          "output_type": "stream",
          "text": [
            "If condition is False\n"
          ],
          "name": "stdout"
        }
      ]
    },
    {
      "cell_type": "code",
      "metadata": {
        "id": "4i8g3ORFxzFn",
        "colab": {
          "base_uri": "https://localhost:8080/"
        },
        "outputId": "f5297cac-286a-4de3-8481-4db4dacef664"
      },
      "source": [
        "if 5==7:\n",
        "  print('First condition is True')\n",
        "elif 2==4:\n",
        "  print('Second condition is True')\n",
        "else:\n",
        "  print('Third statement is True')"
      ],
      "execution_count": 21,
      "outputs": [
        {
          "output_type": "stream",
          "text": [
            "Third statement is True\n"
          ],
          "name": "stdout"
        }
      ]
    },
    {
      "cell_type": "code",
      "metadata": {
        "id": "cZKbXTtVxzAG",
        "colab": {
          "base_uri": "https://localhost:8080/"
        },
        "outputId": "4471542b-6aa7-4709-a8eb-6876bf2dcb0c"
      },
      "source": [
        "if 5<7:\n",
        "  print('First condition is True')\n",
        "elif 2>4:\n",
        "  print('Second condition is True')\n",
        "else:\n",
        "  print('Third statement is True')"
      ],
      "execution_count": 22,
      "outputs": [
        {
          "output_type": "stream",
          "text": [
            "First condition is True\n"
          ],
          "name": "stdout"
        }
      ]
    },
    {
      "cell_type": "code",
      "metadata": {
        "id": "qXCMo76Wxy95",
        "colab": {
          "base_uri": "https://localhost:8080/"
        },
        "outputId": "4c8aa0bb-7818-4813-bb97-3bc89f7b4807"
      },
      "source": [
        "# Let's take an input from the user and grant or deny access accordingly\n",
        "name = input('Enter your name:')\n",
        "\n",
        "if name == 'Ryan':\n",
        "  print('Access granted')\n",
        "else:\n",
        "  print('Acccess Denied')"
      ],
      "execution_count": 24,
      "outputs": [
        {
          "output_type": "stream",
          "text": [
            "Enter your name:ryan\n",
            "Acccess Denied\n"
          ],
          "name": "stdout"
        }
      ]
    },
    {
      "cell_type": "code",
      "metadata": {
        "id": "mgZaUUxhxy75",
        "colab": {
          "base_uri": "https://localhost:8080/"
        },
        "outputId": "c1cfb4b4-8559-434c-f579-68021e0fa5e8"
      },
      "source": [
        "# Let's make the code more robust (case insensitive)\n",
        "name = input('Enter your name:')\n",
        "\n",
        "if name == 'Ryan' or name == 'RYAN' or name == 'ryan':\n",
        "  print('Access granted')\n",
        "else:\n",
        "  print('Acccess Denied')"
      ],
      "execution_count": 25,
      "outputs": [
        {
          "output_type": "stream",
          "text": [
            "Enter your name:ryan\n",
            "Access granted\n"
          ],
          "name": "stdout"
        }
      ]
    },
    {
      "cell_type": "markdown",
      "metadata": {
        "id": "E9b_qCZ12Baz"
      },
      "source": [
        "**MINI CHALLENGE #4:**\n",
        "- **Write a code that takes a number from the user and indicates if it's positive or negative**"
      ]
    },
    {
      "cell_type": "code",
      "metadata": {
        "id": "I4-RpDvp2kHG",
        "colab": {
          "base_uri": "https://localhost:8080/"
        },
        "outputId": "ac3057f0-5da9-45d4-fd4b-0942cf81c683"
      },
      "source": [
        "num = int(input('Enter an integer:'))\n",
        "\n",
        "if num > 0:\n",
        "  print('The number is positive')\n",
        "elif num <0:\n",
        "  print('The number is negative')\n",
        "else:\n",
        "  print('The number is zero!')\n"
      ],
      "execution_count": 30,
      "outputs": [
        {
          "output_type": "stream",
          "text": [
            "Enter an integer:0\n",
            "The number is zero!\n"
          ],
          "name": "stdout"
        }
      ]
    },
    {
      "cell_type": "markdown",
      "metadata": {
        "id": "OnJwHMUe2Ztp"
      },
      "source": [
        "**MINI CHALLENGE #5:**\n",
        "- **Write a code that takes a number from the user and checks if the number is divisible by 3 but is not a multiple of 7**"
      ]
    },
    {
      "cell_type": "code",
      "metadata": {
        "id": "KHv409N93OjP",
        "colab": {
          "base_uri": "https://localhost:8080/"
        },
        "outputId": "ad2d8df5-5c6b-4f9d-879d-dacfb932f3e4"
      },
      "source": [
        "x = int(input('Enter a number between 1 and 100 :'))\n",
        "\n",
        "if x%3 ==0 and x%7 !=0:\n",
        " print('The number is divisible by 3 and not a multiple of 7')\n",
        "else:\n",
        "  print('The number is NOT divisible by 3 and not a multiple of 7')"
      ],
      "execution_count": 31,
      "outputs": [
        {
          "output_type": "stream",
          "text": [
            "Enter a number between 1 and 100 :5\n",
            "The number is NOT divisible by 3 and not a multiple of 7\n"
          ],
          "name": "stdout"
        }
      ]
    },
    {
      "cell_type": "markdown",
      "metadata": {
        "id": "bMs3OKSo29_D"
      },
      "source": [
        "**MINI CHALLENGE #6:** \n",
        "- **Write a code that takes a number from the user and indicate if the number is even or odd**"
      ]
    },
    {
      "cell_type": "code",
      "metadata": {
        "id": "RaDyZQqC28Ya",
        "colab": {
          "base_uri": "https://localhost:8080/"
        },
        "outputId": "06049959-639f-45aa-9700-e8f950714e11"
      },
      "source": [
        "num = int(input(\"Magic! Enter any nuber and I'll tell you if its Even or Odd: \"))\n",
        "\n",
        "if num%2 ==0:\n",
        "  print('The number is EVEN!')\n",
        "else:\n",
        "  print('THe number is ODD!')\n"
      ],
      "execution_count": 32,
      "outputs": [
        {
          "output_type": "stream",
          "text": [
            "Magic! Enter any nuber and I'll tell you if its Even or Odd: 83784\n",
            "The number is EVEN!\n"
          ],
          "name": "stdout"
        }
      ]
    },
    {
      "cell_type": "markdown",
      "metadata": {
        "id": "OHTSxeq90GFt"
      },
      "source": [
        "# MINI CHALLENGE SOLUTIONS"
      ]
    },
    {
      "cell_type": "markdown",
      "metadata": {
        "id": "_TkjGyHolLOh"
      },
      "source": [
        "**MINI CHALLENGE #1 SOLUTION:**\n",
        "- **Without executing the code cell, What will this code generate?**\n",
        "\n",
        "```\n",
        "stock_1_price = 15\n",
        "stock_2_price = 10\n",
        "\n",
        "print(stock_1_price == stock_2_price) \n",
        "print(stock_1_price != stock_2_price) \n",
        "print(stock_1_price > stock_2_price)\n",
        "print(stock_1_price < stock_2_price) \n",
        "```\n"
      ]
    },
    {
      "cell_type": "code",
      "metadata": {
        "id": "jI9I6Xv4lLOi",
        "colab": {
          "base_uri": "https://localhost:8080/",
          "height": 84
        },
        "outputId": "ce45f272-cf22-437b-db2f-54eedd5045f6"
      },
      "source": [
        "stock_1_price = 15\n",
        "stock_2_price = 10\n",
        "\n",
        "print(stock_1_price == stock_2_price) \n",
        "print(stock_1_price != stock_2_price) \n",
        "print(stock_1_price > stock_2_price)\n",
        "print(stock_1_price < stock_2_price) "
      ],
      "execution_count": null,
      "outputs": [
        {
          "output_type": "stream",
          "text": [
            "False\n",
            "True\n",
            "True\n",
            "False\n"
          ],
          "name": "stdout"
        }
      ]
    },
    {
      "cell_type": "markdown",
      "metadata": {
        "id": "vuw6vDPK0Jmd"
      },
      "source": [
        "**MINI CHALLENGE #2 SOLUTION:**\n",
        "- **Without executing the code cell, What will these two lines of code generate?**\n",
        "\n",
        "```\n",
        "print( 'Finance'!='FINANCE' and (10 > 3) and (20 == 20)) \n",
        "```\n",
        "\n",
        "```\n",
        "print( 'Finance'!='FINANCE' or (16 > 20) or (25 == 25)) \n",
        "```\n"
      ]
    },
    {
      "cell_type": "code",
      "metadata": {
        "id": "gYd-N11Y0NZC",
        "colab": {
          "base_uri": "https://localhost:8080/",
          "height": 34
        },
        "outputId": "a843dafa-d0d5-4ec4-c1a9-fc023604658a"
      },
      "source": [
        "# FALSE and TRUE and TRUE\n",
        "print('FINANCE'!='FINANCE' and (10 > 3) and (20 == 20)) "
      ],
      "execution_count": null,
      "outputs": [
        {
          "output_type": "stream",
          "text": [
            "False\n"
          ],
          "name": "stdout"
        }
      ]
    },
    {
      "cell_type": "code",
      "metadata": {
        "id": "CaWri1bQ0Pys",
        "colab": {
          "base_uri": "https://localhost:8080/",
          "height": 34
        },
        "outputId": "316520fa-847a-44b2-a027-ae71b2de898e"
      },
      "source": [
        "# TRUE or FALSE or TRUE\n",
        "print('Finance'!='FINANCE' or (16 > 20) or (25 == 25)) "
      ],
      "execution_count": null,
      "outputs": [
        {
          "output_type": "stream",
          "text": [
            "True\n"
          ],
          "name": "stdout"
        }
      ]
    },
    {
      "cell_type": "markdown",
      "metadata": {
        "id": "ckRo860a1YRo"
      },
      "source": [
        "**MINI CHALLENGE #3 SOLUTION:**\n",
        "- **Without executing the code cell, What will these two lines of code generate?**\n",
        "\n",
        "```\n",
        "a = 5\n",
        "b = 3.5\n",
        "\n",
        "print(a == b or a != b) \n",
        "print(a == b and a != b) \n",
        "```\n"
      ]
    },
    {
      "cell_type": "code",
      "metadata": {
        "id": "eFMOENhv1avh",
        "colab": {
          "base_uri": "https://localhost:8080/",
          "height": 50
        },
        "outputId": "016c2b13-1cb1-401e-8832-31258dac3a7c"
      },
      "source": [
        "a = 5\n",
        "b = 3.5\n",
        "\n",
        "print(a == b or a != b) # False or True = True \n",
        "print(a == b and a != b) # False and True = False"
      ],
      "execution_count": null,
      "outputs": [
        {
          "output_type": "stream",
          "text": [
            "True\n",
            "False\n"
          ],
          "name": "stdout"
        }
      ]
    },
    {
      "cell_type": "markdown",
      "metadata": {
        "id": "7Utj-SiU3UuK"
      },
      "source": [
        "**MINI CHALLENGE #4 SOLUTION:**\n",
        "- **Write a code that takes a number from the user and indicates if it's positive or negative or zero**"
      ]
    },
    {
      "cell_type": "code",
      "metadata": {
        "id": "JtX7pRr03Y7r",
        "colab": {
          "base_uri": "https://localhost:8080/",
          "height": 50
        },
        "outputId": "6a96004f-ee9e-4498-90cb-8e166716e890"
      },
      "source": [
        "x = int(input(\"Please enter an integer: \"))\n",
        "\n",
        "if x < 0:\n",
        "    print('Number is Negative')\n",
        "elif x > 0:\n",
        "    print('Number is Positive')\n",
        "else:    \n",
        "    print ('Number is zero')"
      ],
      "execution_count": null,
      "outputs": [
        {
          "output_type": "stream",
          "text": [
            "Please enter an integer: 9\n",
            "Number is Positive\n"
          ],
          "name": "stdout"
        }
      ]
    },
    {
      "cell_type": "markdown",
      "metadata": {
        "id": "4yvXX18Y3UuL"
      },
      "source": [
        "**MINI CHALLENGE #5 SOLUTION:**\n",
        "- **Write a code that takes a number from the user and checks if the number is divisible by 3 but is not a multiple of 7**"
      ]
    },
    {
      "cell_type": "code",
      "metadata": {
        "id": "mmyi-AFc3ZLd",
        "colab": {
          "base_uri": "https://localhost:8080/",
          "height": 50
        },
        "outputId": "58d90f3e-52d0-4c44-e9fd-7be93a43e2de"
      },
      "source": [
        "# Try 21\n",
        "\n",
        "i = int(input(\"Enter a number between 1 and 100:\"))\n",
        "\n",
        "if (i % 3 == 0) and (i % 7 !=0):\n",
        "    print(\"Number satisfies the requirement; The number is divisible by 3 and not multiple of 7\")\n",
        "else:\n",
        "    print(\"The number does not satisfy the requirements\")\n"
      ],
      "execution_count": null,
      "outputs": [
        {
          "output_type": "stream",
          "text": [
            "Enter a number between 1 and 100:21\n",
            "The number does not satisfy the requirements\n"
          ],
          "name": "stdout"
        }
      ]
    },
    {
      "cell_type": "markdown",
      "metadata": {
        "id": "Y-I6GMYA3UuM"
      },
      "source": [
        "**MINI CHALLENGE #6 SOLUTION:** \n",
        "- **Write a code that takes a number from the user and indicate if the number is even or odd**"
      ]
    },
    {
      "cell_type": "code",
      "metadata": {
        "id": "VNWzhMS03Z71",
        "colab": {
          "base_uri": "https://localhost:8080/",
          "height": 50
        },
        "outputId": "18804c8b-4b77-4b25-e79e-51c9aefa0fa9"
      },
      "source": [
        "x = int(input(\"Please enter an integer from 1 to 1000: \"))\n",
        "\n",
        "if x % 2==0:\n",
        "    print('Number is Even')\n",
        "else:\n",
        "    print('Number is odd')"
      ],
      "execution_count": null,
      "outputs": [
        {
          "output_type": "stream",
          "text": [
            "Please enter an integer from 1 to 1000: 50\n",
            "Number is Even\n"
          ],
          "name": "stdout"
        }
      ]
    }
  ]
}